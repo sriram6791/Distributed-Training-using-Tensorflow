{
 "cells": [
  {
   "cell_type": "markdown",
   "metadata": {
    "editable": false
   },
   "source": [
    "# Distributed Training using Tensorflow"
   ]
  },
  {
   "cell_type": "markdown",
   "metadata": {
    "editable": false
   },
   "source": [
    "### **Distributed Training in TensorFlow**\n",
    "\n",
    "Distributed training in TensorFlow allows you to scale training across multiple devices and machines, enabling faster training times and the ability to handle larger datasets and models. TensorFlow's `tf.distribute.Strategy` API simplifies this process by providing different strategies for various hardware and configurations.\n",
    "\n",
    "---\n",
    "\n",
    "### **What is Distributed Training?**\n",
    "Distributed training refers to the process of training a machine learning model across multiple devices (GPUs, TPUs, or CPUs) or nodes. This is achieved by:\n",
    "- Splitting the computation and data across devices.\n",
    "- Synchronizing updates to the model parameters.\n",
    "\n",
    "---\n",
    "\n",
    "### **What is a Distribution Strategy?**\n",
    "A **distribution strategy** in TensorFlow is a high-level API that abstracts the complexity of distributed training by handling device placement, data sharding, and synchronization. TensorFlow provides several strategies tailored to specific use cases.\n",
    "\n",
    "---\n",
    "\n",
    "### **Types of Distribution Strategies**\n",
    "\n",
    "#### 1. **Default Strategy (`tf.distribute.get_strategy()`)**\n",
    "- **Description**: The default no-op strategy. It behaves as if there is no distribution strategy and uses only the available device (CPU or single GPU).\n",
    "- **When to Use**: For simple setups or debugging on a single device.\n",
    "- **Syntax**:\n",
    "  ```python\n",
    "  strategy = tf.distribute.get_strategy()\n",
    "  ```\n",
    "\n",
    "---\n",
    "\n",
    "#### 2. **OneDeviceStrategy**\n",
    "- **Description**: A strategy that places all computation on a single specified device (e.g., CPU or GPU).\n",
    "- **When to Use**: For debugging or testing on a specific device.\n",
    "- **Syntax**:\n",
    "  ```python\n",
    "  strategy = tf.distribute.OneDeviceStrategy(device=\"/gpu:0\")\n",
    "  ```\n",
    "\n",
    "---\n",
    "\n",
    "#### 3. **MirroredStrategy**\n",
    "- **Description**: Replicates the model across multiple GPUs (or CPUs) and synchronizes updates in each step.\n",
    "- **When to Use**: For synchronous training on multiple GPUs on a single machine.\n",
    "- **How It Works**: Each GPU gets a copy of the model and processes a different batch of data. Gradients are aggregated, and updates are synchronized.\n",
    "- **Syntax**:\n",
    "  ```python\n",
    "  strategy = tf.distribute.MirroredStrategy()\n",
    "  ```\n",
    "\n",
    "---\n",
    "\n",
    "#### 4. **MultiWorkerMirroredStrategy**\n",
    "- **Description**: Extends `MirroredStrategy` to multiple workers (machines), synchronizing updates across all devices on all workers.\n",
    "- **When to Use**: For synchronous training across multiple machines with GPUs.\n",
    "- **Syntax**:\n",
    "  ```python\n",
    "  strategy = tf.distribute.MultiWorkerMirroredStrategy()\n",
    "  ```\n",
    "\n",
    "---\n",
    "\n",
    "#### 5. **TPUStrategy**\n",
    "- **Description**: A strategy for training on Tensor Processing Units (TPUs). It is optimized for large-scale training with TPUs.\n",
    "- **When to Use**: For training large models on Google Cloud TPU clusters.\n",
    "- **Syntax**:\n",
    "  ```python\n",
    "  resolver = tf.distribute.cluster_resolver.TPUClusterResolver()\n",
    "  tf.config.experimental_connect_to_cluster(resolver)\n",
    "  tf.tpu.experimental.initialize_tpu_system(resolver)\n",
    "  strategy = tf.distribute.TPUStrategy(resolver)\n",
    "  ```\n",
    "\n",
    "---\n",
    "\n",
    "#### 6. **ParameterServerStrategy**\n",
    "- **Description**: Distributes the model across parameter servers and workers. Parameters are stored on the parameter servers, and workers handle computation.\n",
    "- **When to Use**: For large-scale asynchronous training across multiple nodes.\n",
    "- **Syntax**:\n",
    "  ```python\n",
    "  strategy = tf.distribute.ParameterServerStrategy()\n",
    "  ```\n",
    "\n",
    "---\n",
    "\n",
    "#### 7. **CentralStorageStrategy**\n",
    "- **Description**: Places variables on a single device (CPU or a specific GPU) and mirrors computation across multiple devices.\n",
    "- **When to Use**: When GPU memory is constrained, and variables need to be stored on the CPU or a single GPU.\n",
    "- **Syntax**:\n",
    "  ```python\n",
    "  strategy = tf.distribute.experimental.CentralStorageStrategy()\n",
    "  ```\n",
    "\n",
    "---\n",
    "\n",
    "### **Comparison Table**\n",
    "\n",
    "| **Strategy**               | **Use Case**                                 | **Devices**           |\n",
    "|-----------------------------|-----------------------------------------------|-----------------------|\n",
    "| **Default**                 | Single-device, simple debugging              | CPU/GPU              |\n",
    "| **OneDeviceStrategy**       | Debugging on a specific device               | CPU or specific GPU  |\n",
    "| **MirroredStrategy**        | Multi-GPU training on a single machine       | Multiple GPUs        |\n",
    "| **MultiWorkerMirroredStrategy** | Multi-GPU training across multiple machines | GPUs across nodes    |\n",
    "| **TPUStrategy**             | Large-scale TPU-based training               | TPUs                 |\n",
    "| **ParameterServerStrategy** | Large-scale asynchronous training            | Multiple nodes       |\n",
    "| **CentralStorageStrategy**  | Limited GPU memory, centralized variables    | CPU or single GPU    |\n",
    "\n",
    "---\n",
    "\n",
    "### **General Usage**\n",
    "Regardless of the strategy, the typical workflow involves:\n",
    "1. Defining the strategy.\n",
    "2. Placing model creation and compilation inside the strategy’s scope.\n",
    "3. Training the model.\n",
    "\n",
    "#### Example Template:\n",
    "\n",
    "```python\n",
    "# Define the strategy\n",
    "strategy = tf.distribute.MirroredStrategy()\n",
    "\n",
    "# Place model creation and compilation inside the strategy's scope\n",
    "with strategy.scope():\n",
    "    model = tf.keras.Sequential([\n",
    "        tf.keras.layers.Dense(128, activation='relu'),\n",
    "        tf.keras.layers.Dense(10, activation='softmax')\n",
    "    ])\n",
    "    model.compile(optimizer='adam', loss='sparse_categorical_crossentropy', metrics=['accuracy'])\n",
    "\n",
    "# Train the model\n",
    "model.fit(dataset, epochs=10)\n",
    "```\n",
    "\n",
    "This sets the foundation for explaining distributed training in TensorFlow and its practical application in your notebook."
   ]
  },
  {
   "cell_type": "markdown",
   "metadata": {
    "editable": false
   },
   "source": [
    "## **Applying Distribution Strategies for Fake News Detection**\n",
    "\n",
    "In this section, we implement distributed training on a real-world NLP dataset for fake news detection. We will explore the training process and performance on single GPU and multi-GPU setups using TensorFlow's distribution strategies. The comparison will focus on training times, speeds, and resource utilization.\n",
    "\n",
    "---\n",
    "\n",
    "### **Dataset**\n",
    "We use a Kaggle dataset containing labeled news articles for fake news detection. The dataset is preprocessed to:\n",
    "- Tokenize text using TensorFlow's `Tokenizer`.\n",
    "- Convert labels into binary format.\n",
    "- Split into training, validation, and test sets.\n",
    "\n",
    "---\n",
    "\n",
    "### **Hardware Setup**\n",
    "\n",
    "#### **Single GPU (Local Machine)**\n",
    "- **Device**: Laptop\n",
    "- **CPU**: Intel Core i7-13650H\n",
    "- **GPU**: NVIDIA RTX 3070\n",
    "- **Strategy**: `tf.distribute.OneDeviceStrategy`\n",
    "\n",
    "#### **Multi-GPU (Kaggle Environment)**\n",
    "- **Device**: Kaggle Notebook\n",
    "- **Accelerator**: 2 NVIDIA Tesla T4 GPUs\n",
    "- **Strategy**: `tf.distribute.MirroredStrategy`\n",
    "\n",
    "#### **TPU (Kaggle Environment)**\n",
    "- **Device**: Kaggle Notebook\n",
    "- **Accelerator**: TPU VM V3-8\n",
    "- **Strategy**: `strategy = tf.distribute.TPUStrategy(resolver)`\n",
    "---\n",
    "\n",
    "### **Steps**\n",
    "1. Implement a model for fake news detection using:\n",
    "   - LSTM\n",
    "   - Transformer\n",
    "2. Train on:\n",
    "   - Single GPU (using `OneDeviceStrategy`).\n",
    "   - Multiple GPUs (using `MirroredStrategy`).\n",
    "   - TPU (using `TPUStrategy`).\n",
    "3. Compare the training time and performance.\n",
    "\n",
    "---\n"
   ]
  },
  {
   "cell_type": "markdown",
   "metadata": {
    "editable": false
   },
   "source": [
    "# Fake News Detection"
   ]
  },
  {
   "cell_type": "markdown",
   "metadata": {
    "editable": false
   },
   "source": [
    "[Fake News Classification Dataset Link](https://www.kaggle.com/datasets/aadyasingh55/fake-news-classification)<br>\n",
    "In this project, we aim to build a model that can detect fake news. We will use a dataset containing news articles labeled as fake or real. The focus here is on how distributed training is utilized, as this approach allows for scaling the training process across multiple devices. The results could have improved with extended training time, but the primary emphasis is on the use of distributed training techniques. .<br>"
   ]
  },
  {
   "cell_type": "markdown",
   "metadata": {
    "editable": false
   },
   "source": [
    "## Importing required libraries"
   ]
  },
  {
   "cell_type": "code",
   "execution_count": null,
   "metadata": {
    "editable": false,
    "trusted": true
   },
   "outputs": [],
   "source": [
    "import pandas as pd \n",
    "import numpy as np\n",
    "import tensorflow as tf \n",
    "\n",
    "from sklearn.model_selection import train_test_split\n"
   ]
  },
  {
   "cell_type": "markdown",
   "metadata": {
    "editable": false
   },
   "source": [
    "## Data Loading and Preprocessing\n",
    "\n",
    "We will load the datasets and combine the `title` and `text` columns into a single `content` column. We will also drop unnecessary columns."
   ]
  },
  {
   "cell_type": "code",
   "execution_count": null,
   "metadata": {
    "editable": false,
    "trusted": true
   },
   "outputs": [],
   "source": [
    "train_data = pd.read_csv('/kaggle/input/fake-news-classification/train (2).csv',sep=';')\n",
    "train_data.head(5)"
   ]
  },
  {
   "cell_type": "code",
   "execution_count": null,
   "metadata": {
    "editable": false,
    "trusted": true
   },
   "outputs": [],
   "source": [
    "\n",
    "# Assuming train_data is already loaded as a DataFrame\n",
    "first_row = train_data.iloc[0]\n",
    "pd.set_option('display.max_colwidth', None)\n",
    "print(first_row)"
   ]
  },
  {
   "cell_type": "code",
   "execution_count": null,
   "metadata": {
    "editable": false,
    "trusted": true
   },
   "outputs": [],
   "source": [
    "val_data = pd.read_csv('/kaggle/input/fake-news-classification/evaluation.csv',sep=';')\n",
    "val_data.head(1)"
   ]
  },
  {
   "cell_type": "code",
   "execution_count": null,
   "metadata": {
    "editable": false,
    "trusted": true
   },
   "outputs": [],
   "source": [
    "test_data = pd.read_csv('/kaggle/input/fake-news-classification/test (1).csv',sep=';')\n",
    "test_data.head(1)"
   ]
  },
  {
   "cell_type": "markdown",
   "metadata": {
    "editable": false
   },
   "source": [
    "## Preparing data for Model"
   ]
  },
  {
   "cell_type": "markdown",
   "metadata": {
    "editable": false
   },
   "source": [
    "#### Tokenization and Padding\n",
    "\n",
    "We will use the TensorFlow tokenizer to convert the text data into sequences of integers. We will then pad the sequences to ensure they have a uniform length."
   ]
  },
  {
   "cell_type": "code",
   "execution_count": null,
   "metadata": {
    "editable": false,
    "trusted": true
   },
   "outputs": [],
   "source": [
    "\n",
    "# Combine title and text columns\n",
    "train_data['content'] = train_data['title'] + \" \" + train_data['text']\n",
    "test_data['content'] = test_data['title'] + \" \" + test_data['text']\n",
    "val_data['content'] = val_data['title'] + \" \" + val_data['text']\n",
    "\n",
    "# Drop unnecessary columns\n",
    "train_data = train_data.drop(columns=['Unnamed: 0', 'title', 'text'])\n",
    "test_data = test_data.drop(columns=['Unnamed: 0', 'title', 'text'])\n",
    "val_data = val_data.drop(columns=['Unnamed: 0', 'title', 'text'])\n"
   ]
  },
  {
   "cell_type": "code",
   "execution_count": null,
   "metadata": {
    "editable": false,
    "trusted": true
   },
   "outputs": [],
   "source": [
    "\n",
    "# Combine all data for tokenizer training\n",
    "combined_data = pd.concat([train_data, test_data,val_data])\n",
    "\n",
    "# Tokenization and padding\n",
    "tokenizer = tf.keras.preprocessing.text.Tokenizer(num_words=5000)\n",
    "tokenizer.fit_on_texts(combined_data['content'])\n"
   ]
  },
  {
   "cell_type": "code",
   "execution_count": null,
   "metadata": {
    "editable": false,
    "trusted": true
   },
   "outputs": [],
   "source": [
    "\n",
    "# Convert texts to sequences\n",
    "train_sequences = tokenizer.texts_to_sequences(train_data['content'])\n",
    "test_sequences = tokenizer.texts_to_sequences(test_data['content'])\n",
    "val_sequences = tokenizer.texts_to_sequences(val_data['content'])\n",
    "\n",
    "\n",
    "# Determine the maximum length of the sequences\n",
    "max_length = max(len(seq) for seq in train_sequences + test_sequences + val_sequences)\n",
    "\n",
    "# Pad sequences to ensure uniform length\n",
    "train_x = tf.keras.preprocessing.sequence.pad_sequences(train_sequences, maxlen=max_length, padding='post')\n",
    "test_x = tf.keras.preprocessing.sequence.pad_sequences(test_sequences, maxlen=max_length, padding='post')\n",
    "val_x = tf.keras.preprocessing.sequence.pad_sequences(val_sequences, maxlen=max_length, padding='post')\n",
    "\n",
    "# Extract labels\n",
    "train_y = train_data['label'].values\n",
    "test_y = test_data['label'].values\n",
    "val_y = val_data['label'].values\n"
   ]
  },
  {
   "cell_type": "markdown",
   "metadata": {
    "editable": false
   },
   "source": [
    "## Creating a NLP model using Bidirectional LSTMs"
   ]
  },
  {
   "cell_type": "markdown",
   "metadata": {
    "editable": false
   },
   "source": [
    "### Model Architecture\n",
    "\n",
    "We have built a sequential model using TensorFlow's Keras API. The model consists of the following layers:\n",
    "\n",
    "1. **Embedding Layer**:\n",
    "    - **Purpose**: Converts the input sequences of integers into dense vectors of fixed size.\n",
    "    - **Parameters**:\n",
    "        - `input_dim=5000`: The size of the vocabulary (number of unique words).\n",
    "        - `output_dim=128`: The dimension of the dense embedding vectors.\n",
    "        - `input_length=max_length`: The length of the input sequences.\n",
    "\n",
    "2. **Bidirectional LSTM Layer (1st)**:\n",
    "    - **Purpose**: Captures dependencies in the input sequences in both forward and backward directions.\n",
    "    - **Parameters**:\n",
    "        - `units=64`: The number of LSTM units in each direction.\n",
    "        - `return_sequences=True`: Ensures that the output is a sequence of the same length as the input.\n",
    "\n",
    "3. **Bidirectional LSTM Layer (2nd)**:\n",
    "    - **Purpose**: Further captures dependencies in the input sequences in both forward and backward directions.\n",
    "    - **Parameters**:\n",
    "        - `units=32`: The number of LSTM units in each direction.\n",
    "        - `return_sequences=False`: Ensures that the output is a single vector (the last output of the LSTM).\n",
    "\n",
    "4. **Dense Layer**:\n",
    "    - **Purpose**: Adds a fully connected layer to learn complex representations.\n",
    "    - **Parameters**:\n",
    "        - `units=64`: The number of neurons in the dense layer.\n",
    "        - `activation='relu'`: The activation function used to introduce non-linearity.\n",
    "\n",
    "5. **Dropout Layer**:\n",
    "    - **Purpose**: Prevents overfitting by randomly setting a fraction of input units to 0 at each update during training.\n",
    "    - **Parameters**:\n",
    "        - `rate=0.5`: The fraction of input units to drop.\n",
    "\n",
    "6. **Output Layer**:\n",
    "    - **Purpose**: Produces the final output of the model.\n",
    "    - **Parameters**:\n",
    "        - `units=1`: The number of neurons in the output layer (since this is a binary classification problem).\n",
    "        - `activation='sigmoid'`: The activation function used to produce a probability score between 0 and 1.\n",
    "\n",
    "\n",
    "The model starts with an embedding layer to convert the input sequences into dense vectors. It then uses two bidirectional LSTM layers to capture dependencies in the sequences in both directions. A dense layer with ReLU activation is added to learn complex representations, followed by a dropout layer to prevent overfitting. Finally, a sigmoid-activated dense layer is used to produce the output, which is a probability score indicating whether the news is fake or real."
   ]
  },
  {
   "cell_type": "code",
   "execution_count": null,
   "metadata": {
    "editable": false
   },
   "outputs": [],
   "source": [
    "import pandas as pd\n",
    "import tensorflow as tf\n",
    "from sklearn.model_selection import train_test_split\n",
    "from sklearn.metrics import accuracy_score\n",
    "\n",
    "# Build the model\n",
    "model = tf.keras.Sequential([\n",
    "    tf.keras.layers.Embedding(input_dim=5000, output_dim=128, input_length=max_length),\n",
    "    tf.keras.layers.Bidirectional(tf.keras.layers.LSTM(64, return_sequences=True)),\n",
    "    tf.keras.layers.Bidirectional(tf.keras.layers.LSTM(32)),\n",
    "    tf.keras.layers.Dense(64, activation='relu'),\n",
    "    tf.keras.layers.Dropout(0.5),\n",
    "    tf.keras.layers.Dense(1, activation='sigmoid')\n",
    "])\n",
    "\n",
    "# Compile the model\n",
    "model.compile(loss='binary_crossentropy', optimizer='adam', metrics=['accuracy'])\n",
    "\n",
    "# Train the model\n",
    "history = model.fit(train_x, train_y, epochs=5, batch_size=64, validation_data=(val_x, val_y))\n"
   ]
  },
  {
   "cell_type": "code",
   "execution_count": null,
   "metadata": {
    "editable": false
   },
   "outputs": [],
   "source": [
    "# Display the model summary\n",
    "model.summary()"
   ]
  },
  {
   "cell_type": "code",
   "execution_count": null,
   "metadata": {
    "editable": false
   },
   "outputs": [],
   "source": [
    "import matplotlib.pyplot as plt\n",
    "\n",
    "# Plot training & validation loss values\n",
    "plt.figure(figsize=(12, 6))\n",
    "\n",
    "plt.subplot(1, 2, 1)\n",
    "plt.plot(history.history['loss'], label='Train Loss')\n",
    "plt.plot(history.history['val_loss'], label='Validation Loss')\n",
    "plt.title('Model Loss')\n",
    "plt.xlabel('Epoch')\n",
    "plt.ylabel('Loss')\n",
    "plt.legend(loc='upper right')\n",
    "\n",
    "# Plot training & validation accuracy values\n",
    "plt.subplot(1, 2, 2)\n",
    "plt.plot(history.history['accuracy'], label='Train Accuracy')\n",
    "plt.plot(history.history['val_accuracy'], label='Validation Accuracy')\n",
    "plt.title('Model Accuracy')\n",
    "plt.xlabel('Epoch')\n",
    "plt.ylabel('Accuracy')\n",
    "plt.legend(loc='lower right')\n",
    "\n",
    "plt.tight_layout()\n",
    "plt.show()"
   ]
  },
  {
   "cell_type": "code",
   "execution_count": null,
   "metadata": {
    "editable": false
   },
   "outputs": [],
   "source": [
    "\n",
    "# Evaluate the model\n",
    "test_loss, test_accuracy = model.evaluate(test_x, test_y)\n",
    "print(f'Test Accuracy: {test_accuracy}')\n",
    "\n",
    "# Predict and calculate accuracy\n",
    "predictions = (model.predict(test_x) > 0.5).astype(\"int32\")\n",
    "accuracy = accuracy_score(test_y, predictions)\n",
    "print(f'Accuracy: {accuracy}')"
   ]
  },
  {
   "cell_type": "markdown",
   "metadata": {
    "editable": false
   },
   "source": [
    "## Now lets use distributed training and see the difference"
   ]
  },
  {
   "cell_type": "code",
   "execution_count": null,
   "metadata": {
    "editable": false,
    "execution": {
     "iopub.execute_input": "2024-12-25T18:28:12.254333Z",
     "iopub.status.busy": "2024-12-25T18:28:12.254011Z",
     "iopub.status.idle": "2024-12-25T18:28:12.736629Z",
     "shell.execute_reply": "2024-12-25T18:28:12.735753Z",
     "shell.execute_reply.started": "2024-12-25T18:28:12.254297Z"
    },
    "trusted": true
   },
   "outputs": [],
   "source": [
    "import tensorflow as tf\n",
    "\n",
    "# Verify GPU access\n",
    "gpus = tf.config.list_physical_devices('GPU')\n",
    "if gpus:\n",
    "    print(f\"GPUs available: {len(gpus)}\")\n",
    "else:\n",
    "    print(\"No GPUs available\")"
   ]
  },
  {
   "cell_type": "code",
   "execution_count": null,
   "metadata": {
    "editable": false,
    "execution": {
     "iopub.execute_input": "2024-12-25T18:30:31.486200Z",
     "iopub.status.busy": "2024-12-25T18:30:31.485918Z",
     "iopub.status.idle": "2024-12-25T18:40:02.688352Z",
     "shell.execute_reply": "2024-12-25T18:40:02.687602Z",
     "shell.execute_reply.started": "2024-12-25T18:30:31.486178Z"
    },
    "trusted": true
   },
   "outputs": [],
   "source": [
    "import pandas as pd\n",
    "import tensorflow as tf\n",
    "from sklearn.model_selection import train_test_split\n",
    "from sklearn.metrics import accuracy_score\n",
    "\n",
    "# Verify GPU access\n",
    "gpus = tf.config.list_physical_devices('GPU')\n",
    "if gpus:\n",
    "    print(f\"GPUs available: {len(gpus)}\")\n",
    "else:\n",
    "    print(\"No GPUs available\")\n",
    "\n",
    "# Set up distributed strategy\n",
    "strategy = tf.distribute.MirroredStrategy()\n",
    "\n",
    "with strategy.scope():\n",
    "    # Build the model\n",
    "    model = tf.keras.Sequential([\n",
    "        tf.keras.layers.Embedding(input_dim=5000, output_dim=128, input_length=max_length),\n",
    "        tf.keras.layers.Bidirectional(tf.keras.layers.LSTM(64, return_sequences=True)),\n",
    "        tf.keras.layers.Bidirectional(tf.keras.layers.LSTM(32)),\n",
    "        tf.keras.layers.Dense(64, activation='relu'),\n",
    "        tf.keras.layers.Dropout(0.5),\n",
    "        tf.keras.layers.Dense(1, activation='sigmoid')\n",
    "    ])\n",
    "\n",
    "    # Compile the model\n",
    "    model.compile(loss='binary_crossentropy', optimizer='adam', metrics=['accuracy'])\n",
    "\n",
    "# Train the model\n",
    "history = model.fit(train_x, train_y, epochs=5, batch_size=256, validation_data=(val_x, val_y))"
   ]
  },
  {
   "cell_type": "code",
   "execution_count": null,
   "metadata": {
    "editable": false,
    "execution": {
     "iopub.execute_input": "2024-12-25T18:41:06.047604Z",
     "iopub.status.busy": "2024-12-25T18:41:06.047266Z",
     "iopub.status.idle": "2024-12-25T18:43:34.258852Z",
     "shell.execute_reply": "2024-12-25T18:43:34.257973Z",
     "shell.execute_reply.started": "2024-12-25T18:41:06.047575Z"
    },
    "trusted": true
   },
   "outputs": [],
   "source": [
    "\n",
    "# Evaluate the model on the test set\n",
    "test_loss, test_accuracy = model.evaluate(test_x, test_y)\n",
    "print(f\"Test Loss: {test_loss}\")\n",
    "print(f\"Test Accuracy: {test_accuracy}\")\n",
    "\n",
    "# Predict on the test set\n",
    "predictions = model.predict(test_x)\n",
    "predictions = (predictions > 0.5).astype(int)\n",
    "\n",
    "# Calculate accuracy\n",
    "accuracy = accuracy_score(test_y, predictions)\n",
    "print(f\"Test Accuracy (calculated): {accuracy}\")"
   ]
  },
  {
   "cell_type": "markdown",
   "metadata": {
    "editable": false
   },
   "source": [
    "### **Comparison of Single GPU vs Multi-GPU Performance (LSTMs)**\n",
    "\n",
    "Below is a concise comparison of the training performance for Fake News Detection using TensorFlow on two setups: a **single GPU (RTX 3070)** and **multi-GPU (2x Tesla T4)**. The comparison highlights training times, accuracy, and efficiency.\n",
    "\n",
    "---\n",
    "\n",
    "### **Key Observations**\n",
    "\n",
    "| **Metric**                  | **Single GPU (RTX 3070)**                   | **Multi-GPU (2x Tesla T4)**              | **Remarks**                                    |\n",
    "|-----------------------------|---------------------------------------------|------------------------------------------|-----------------------------------------------|\n",
    "| **Epoch Duration**          | ~500 seconds                               | ~113 seconds                             | Multi-GPU training is ~4.4x faster per epoch. |\n",
    "| **Training Accuracy**       | **99.77%** after 5 epochs                  | **99.31%** after 5 epochs                | Comparable training accuracy.                 |\n",
    "| **Validation Accuracy**     | 98.40%                                     | 98.40%                                   | Both setups perform equally on validation.    |\n",
    "| **Test Accuracy**           | **99.96%**                                 | **98.55%**                               | Single GPU achieved marginally better test accuracy. |\n",
    "| **Test Loss**               | 0.0731                                     | 0.0494                                   | Multi-GPU slightly outperformed in loss.      |\n",
    "| **Training Time (Total)**   | ~41 minutes (5 epochs)                     | ~9 minutes (5 epochs)                    | Multi-GPU setup significantly reduces total training time. |\n",
    "\n",
    "---\n",
    "\n",
    "### **Insights**\n",
    "1. **Speed**: Multi-GPU training is significantly faster, reducing the epoch duration by ~78%. This efficiency is crucial for larger datasets and models.\n",
    "2. **Accuracy**: Both setups achieved high accuracy, with the single GPU slightly outperforming on the test set. This difference may be due to better hyperparameter tuning for the single GPU run.\n",
    "3. **Efficiency**: While both strategies deliver strong results, multi-GPU training is highly advantageous for saving time without compromising accuracy.\n",
    "\n",
    "---\n",
    "\n",
    "### **Conclusion**\n",
    "- **When to Use Single GPU**: Ideal for smaller-scale tasks or debugging, especially on personal machines.\n",
    "- **When to Use Multi-GPU**: Perfect for large-scale training, enabling rapid iteration and efficient use of resources.\n",
    "\n",
    "Multi-GPU distributed training demonstrates a clear advantage in speed, making it a preferred choice for scaling up machine learning workflows."
   ]
  },
  {
   "cell_type": "markdown",
   "metadata": {
    "editable": false
   },
   "source": [
    "## Transformer Model"
   ]
  },
  {
   "cell_type": "markdown",
   "metadata": {},
   "source": [
    "#### First we shall look at single GPU performance ,the model used here is very simplified compared to that used in multiGPU architecture"
   ]
  },
  {
   "cell_type": "code",
   "execution_count": null,
   "metadata": {},
   "outputs": [
    {
     "name": "stderr",
     "output_type": "stream",
     "text": [
      "WARNING: All log messages before absl::InitializeLog() is called are written to STDERR\n",
      "I0000 00:00:1735152983.724794   14998 cuda_executor.cc:1001] could not open file to read NUMA node: /sys/bus/pci/devices/0000:01:00.0/numa_node\n",
      "Your kernel may have been built without NUMA support.\n",
      "I0000 00:00:1735152983.755043   14998 cuda_executor.cc:1001] could not open file to read NUMA node: /sys/bus/pci/devices/0000:01:00.0/numa_node\n",
      "Your kernel may have been built without NUMA support.\n",
      "I0000 00:00:1735152983.755088   14998 cuda_executor.cc:1001] could not open file to read NUMA node: /sys/bus/pci/devices/0000:01:00.0/numa_node\n",
      "Your kernel may have been built without NUMA support.\n",
      "I0000 00:00:1735152983.758691   14998 cuda_executor.cc:1001] could not open file to read NUMA node: /sys/bus/pci/devices/0000:01:00.0/numa_node\n",
      "Your kernel may have been built without NUMA support.\n",
      "I0000 00:00:1735152983.758767   14998 cuda_executor.cc:1001] could not open file to read NUMA node: /sys/bus/pci/devices/0000:01:00.0/numa_node\n",
      "Your kernel may have been built without NUMA support.\n",
      "I0000 00:00:1735152983.758784   14998 cuda_executor.cc:1001] could not open file to read NUMA node: /sys/bus/pci/devices/0000:01:00.0/numa_node\n",
      "Your kernel may have been built without NUMA support.\n",
      "I0000 00:00:1735152983.884082   14998 cuda_executor.cc:1001] could not open file to read NUMA node: /sys/bus/pci/devices/0000:01:00.0/numa_node\n",
      "Your kernel may have been built without NUMA support.\n",
      "I0000 00:00:1735152983.884142   14998 cuda_executor.cc:1001] could not open file to read NUMA node: /sys/bus/pci/devices/0000:01:00.0/numa_node\n",
      "Your kernel may have been built without NUMA support.\n",
      "2024-12-25 18:56:23.884151: I tensorflow/core/common_runtime/gpu/gpu_device.cc:2112] Could not identify NUMA node of platform GPU id 0, defaulting to 0.  Your kernel may not have been built with NUMA support.\n",
      "I0000 00:00:1735152983.884185   14998 cuda_executor.cc:1001] could not open file to read NUMA node: /sys/bus/pci/devices/0000:01:00.0/numa_node\n",
      "Your kernel may have been built without NUMA support.\n",
      "2024-12-25 18:56:23.884199: I tensorflow/core/common_runtime/gpu/gpu_device.cc:2021] Created device /job:localhost/replica:0/task:0/device:GPU:0 with 5582 MB memory:  -> device: 0, name: NVIDIA GeForce RTX 3070 Laptop GPU, pci bus id: 0000:01:00.0, compute capability: 8.6\n"
     ]
    }
   ],
   "source": [
    "import tensorflow as tf\n",
    "from tensorflow.keras.layers import LayerNormalization, MultiHeadAttention, Dense, Dropout, Input, Embedding, GlobalAveragePooling1D\n",
    "\n",
    "class SimpleTransformerBlock(tf.keras.layers.Layer):\n",
    "    def __init__(self, embed_dim, num_heads, ff_dim, rate=0.1):\n",
    "        super(SimpleTransformerBlock, self).__init__()\n",
    "        self.att = MultiHeadAttention(num_heads=num_heads, key_dim=embed_dim)\n",
    "        self.ffn = tf.keras.Sequential(\n",
    "            [Dense(ff_dim, activation=\"relu\"), Dense(embed_dim)]\n",
    "        )\n",
    "        self.layernorm1 = LayerNormalization(epsilon=1e-6)\n",
    "        self.layernorm2 = LayerNormalization(epsilon=1e-6)\n",
    "        self.dropout1 = Dropout(rate)\n",
    "        self.dropout2 = Dropout(rate)\n",
    "\n",
    "    def call(self, inputs, training):\n",
    "        attn_output = self.att(inputs, inputs)\n",
    "        attn_output = self.dropout1(attn_output, training=training)\n",
    "        out1 = self.layernorm1(inputs + attn_output)\n",
    "        ffn_output = self.ffn(out1)\n",
    "        ffn_output = self.dropout2(ffn_output, training=training)\n",
    "        return self.layernorm2(out1 + ffn_output)\n",
    "\n",
    "def simple_transformer_model(input_shape, vocab_size):\n",
    "    inputs = Input(shape=input_shape)\n",
    "    embedding_layer = Embedding(input_dim=vocab_size, output_dim=32)(inputs)  \n",
    "    transformer_block = SimpleTransformerBlock(embed_dim=32, num_heads=1, ff_dim=32)  \n",
    "    x = GlobalAveragePooling1D()(x)\n",
    "    x = Dense(8, activation='relu')(x)  \n",
    "    x = Dropout(0.5)(x)\n",
    "    outputs = Dense(1, activation='sigmoid')(x)\n",
    "    model = tf.keras.Model(inputs=inputs, outputs=outputs)\n",
    "    return model\n",
    "\n",
    "# Build the simpler model\n",
    "model = simple_transformer_model((max_length,), 5000)"
   ]
  },
  {
   "cell_type": "code",
   "execution_count": null,
   "metadata": {},
   "outputs": [],
   "source": [
    "# Compile the model\n",
    "model.compile(loss='binary_crossentropy', optimizer='adam', metrics=['accuracy'])"
   ]
  },
  {
   "cell_type": "code",
   "execution_count": null,
   "metadata": {},
   "outputs": [
    {
     "data": {
      "text/html": [
       "<pre style=\"white-space:pre;overflow-x:auto;line-height:normal;font-family:Menlo,'DejaVu Sans Mono',consolas,'Courier New',monospace\"><span style=\"font-weight: bold\">Model: \"functional_1\"</span>\n",
       "</pre>\n"
      ],
      "text/plain": [
       "\u001b[1mModel: \"functional_1\"\u001b[0m\n"
      ]
     },
     "metadata": {},
     "output_type": "display_data"
    },
    {
     "data": {
      "text/html": [
       "<pre style=\"white-space:pre;overflow-x:auto;line-height:normal;font-family:Menlo,'DejaVu Sans Mono',consolas,'Courier New',monospace\">┏━━━━━━━━━━━━━━━━━━━━━━━━━━━━━━━━━┳━━━━━━━━━━━━━━━━━━━━━━━━┳━━━━━━━━━━━━━━━┓\n",
       "┃<span style=\"font-weight: bold\"> Layer (type)                    </span>┃<span style=\"font-weight: bold\"> Output Shape           </span>┃<span style=\"font-weight: bold\">       Param # </span>┃\n",
       "┡━━━━━━━━━━━━━━━━━━━━━━━━━━━━━━━━━╇━━━━━━━━━━━━━━━━━━━━━━━━╇━━━━━━━━━━━━━━━┩\n",
       "│ input_layer (<span style=\"color: #0087ff; text-decoration-color: #0087ff\">InputLayer</span>)        │ (<span style=\"color: #00d7ff; text-decoration-color: #00d7ff\">None</span>, <span style=\"color: #00af00; text-decoration-color: #00af00\">6961</span>)           │             <span style=\"color: #00af00; text-decoration-color: #00af00\">0</span> │\n",
       "├─────────────────────────────────┼────────────────────────┼───────────────┤\n",
       "│ embedding (<span style=\"color: #0087ff; text-decoration-color: #0087ff\">Embedding</span>)           │ (<span style=\"color: #00d7ff; text-decoration-color: #00d7ff\">None</span>, <span style=\"color: #00af00; text-decoration-color: #00af00\">6961</span>, <span style=\"color: #00af00; text-decoration-color: #00af00\">32</span>)       │       <span style=\"color: #00af00; text-decoration-color: #00af00\">160,000</span> │\n",
       "├─────────────────────────────────┼────────────────────────┼───────────────┤\n",
       "│ simple_transformer_block        │ (<span style=\"color: #00d7ff; text-decoration-color: #00d7ff\">None</span>, <span style=\"color: #00af00; text-decoration-color: #00af00\">6961</span>, <span style=\"color: #00af00; text-decoration-color: #00af00\">32</span>)       │         <span style=\"color: #00af00; text-decoration-color: #00af00\">6,464</span> │\n",
       "│ (<span style=\"color: #0087ff; text-decoration-color: #0087ff\">SimpleTransformerBlock</span>)        │                        │               │\n",
       "├─────────────────────────────────┼────────────────────────┼───────────────┤\n",
       "│ global_average_pooling1d        │ (<span style=\"color: #00d7ff; text-decoration-color: #00d7ff\">None</span>, <span style=\"color: #00af00; text-decoration-color: #00af00\">32</span>)             │             <span style=\"color: #00af00; text-decoration-color: #00af00\">0</span> │\n",
       "│ (<span style=\"color: #0087ff; text-decoration-color: #0087ff\">GlobalAveragePooling1D</span>)        │                        │               │\n",
       "├─────────────────────────────────┼────────────────────────┼───────────────┤\n",
       "│ dense_2 (<span style=\"color: #0087ff; text-decoration-color: #0087ff\">Dense</span>)                 │ (<span style=\"color: #00d7ff; text-decoration-color: #00d7ff\">None</span>, <span style=\"color: #00af00; text-decoration-color: #00af00\">8</span>)              │           <span style=\"color: #00af00; text-decoration-color: #00af00\">264</span> │\n",
       "├─────────────────────────────────┼────────────────────────┼───────────────┤\n",
       "│ dropout_3 (<span style=\"color: #0087ff; text-decoration-color: #0087ff\">Dropout</span>)             │ (<span style=\"color: #00d7ff; text-decoration-color: #00d7ff\">None</span>, <span style=\"color: #00af00; text-decoration-color: #00af00\">8</span>)              │             <span style=\"color: #00af00; text-decoration-color: #00af00\">0</span> │\n",
       "├─────────────────────────────────┼────────────────────────┼───────────────┤\n",
       "│ dense_3 (<span style=\"color: #0087ff; text-decoration-color: #0087ff\">Dense</span>)                 │ (<span style=\"color: #00d7ff; text-decoration-color: #00d7ff\">None</span>, <span style=\"color: #00af00; text-decoration-color: #00af00\">1</span>)              │             <span style=\"color: #00af00; text-decoration-color: #00af00\">9</span> │\n",
       "└─────────────────────────────────┴────────────────────────┴───────────────┘\n",
       "</pre>\n"
      ],
      "text/plain": [
       "┏━━━━━━━━━━━━━━━━━━━━━━━━━━━━━━━━━┳━━━━━━━━━━━━━━━━━━━━━━━━┳━━━━━━━━━━━━━━━┓\n",
       "┃\u001b[1m \u001b[0m\u001b[1mLayer (type)                   \u001b[0m\u001b[1m \u001b[0m┃\u001b[1m \u001b[0m\u001b[1mOutput Shape          \u001b[0m\u001b[1m \u001b[0m┃\u001b[1m \u001b[0m\u001b[1m      Param #\u001b[0m\u001b[1m \u001b[0m┃\n",
       "┡━━━━━━━━━━━━━━━━━━━━━━━━━━━━━━━━━╇━━━━━━━━━━━━━━━━━━━━━━━━╇━━━━━━━━━━━━━━━┩\n",
       "│ input_layer (\u001b[38;5;33mInputLayer\u001b[0m)        │ (\u001b[38;5;45mNone\u001b[0m, \u001b[38;5;34m6961\u001b[0m)           │             \u001b[38;5;34m0\u001b[0m │\n",
       "├─────────────────────────────────┼────────────────────────┼───────────────┤\n",
       "│ embedding (\u001b[38;5;33mEmbedding\u001b[0m)           │ (\u001b[38;5;45mNone\u001b[0m, \u001b[38;5;34m6961\u001b[0m, \u001b[38;5;34m32\u001b[0m)       │       \u001b[38;5;34m160,000\u001b[0m │\n",
       "├─────────────────────────────────┼────────────────────────┼───────────────┤\n",
       "│ simple_transformer_block        │ (\u001b[38;5;45mNone\u001b[0m, \u001b[38;5;34m6961\u001b[0m, \u001b[38;5;34m32\u001b[0m)       │         \u001b[38;5;34m6,464\u001b[0m │\n",
       "│ (\u001b[38;5;33mSimpleTransformerBlock\u001b[0m)        │                        │               │\n",
       "├─────────────────────────────────┼────────────────────────┼───────────────┤\n",
       "│ global_average_pooling1d        │ (\u001b[38;5;45mNone\u001b[0m, \u001b[38;5;34m32\u001b[0m)             │             \u001b[38;5;34m0\u001b[0m │\n",
       "│ (\u001b[38;5;33mGlobalAveragePooling1D\u001b[0m)        │                        │               │\n",
       "├─────────────────────────────────┼────────────────────────┼───────────────┤\n",
       "│ dense_2 (\u001b[38;5;33mDense\u001b[0m)                 │ (\u001b[38;5;45mNone\u001b[0m, \u001b[38;5;34m8\u001b[0m)              │           \u001b[38;5;34m264\u001b[0m │\n",
       "├─────────────────────────────────┼────────────────────────┼───────────────┤\n",
       "│ dropout_3 (\u001b[38;5;33mDropout\u001b[0m)             │ (\u001b[38;5;45mNone\u001b[0m, \u001b[38;5;34m8\u001b[0m)              │             \u001b[38;5;34m0\u001b[0m │\n",
       "├─────────────────────────────────┼────────────────────────┼───────────────┤\n",
       "│ dense_3 (\u001b[38;5;33mDense\u001b[0m)                 │ (\u001b[38;5;45mNone\u001b[0m, \u001b[38;5;34m1\u001b[0m)              │             \u001b[38;5;34m9\u001b[0m │\n",
       "└─────────────────────────────────┴────────────────────────┴───────────────┘\n"
      ]
     },
     "metadata": {},
     "output_type": "display_data"
    },
    {
     "data": {
      "text/html": [
       "<pre style=\"white-space:pre;overflow-x:auto;line-height:normal;font-family:Menlo,'DejaVu Sans Mono',consolas,'Courier New',monospace\"><span style=\"font-weight: bold\"> Total params: </span><span style=\"color: #00af00; text-decoration-color: #00af00\">166,737</span> (651.32 KB)\n",
       "</pre>\n"
      ],
      "text/plain": [
       "\u001b[1m Total params: \u001b[0m\u001b[38;5;34m166,737\u001b[0m (651.32 KB)\n"
      ]
     },
     "metadata": {},
     "output_type": "display_data"
    },
    {
     "data": {
      "text/html": [
       "<pre style=\"white-space:pre;overflow-x:auto;line-height:normal;font-family:Menlo,'DejaVu Sans Mono',consolas,'Courier New',monospace\"><span style=\"font-weight: bold\"> Trainable params: </span><span style=\"color: #00af00; text-decoration-color: #00af00\">166,737</span> (651.32 KB)\n",
       "</pre>\n"
      ],
      "text/plain": [
       "\u001b[1m Trainable params: \u001b[0m\u001b[38;5;34m166,737\u001b[0m (651.32 KB)\n"
      ]
     },
     "metadata": {},
     "output_type": "display_data"
    },
    {
     "data": {
      "text/html": [
       "<pre style=\"white-space:pre;overflow-x:auto;line-height:normal;font-family:Menlo,'DejaVu Sans Mono',consolas,'Courier New',monospace\"><span style=\"font-weight: bold\"> Non-trainable params: </span><span style=\"color: #00af00; text-decoration-color: #00af00\">0</span> (0.00 B)\n",
       "</pre>\n"
      ],
      "text/plain": [
       "\u001b[1m Non-trainable params: \u001b[0m\u001b[38;5;34m0\u001b[0m (0.00 B)\n"
      ]
     },
     "metadata": {},
     "output_type": "display_data"
    }
   ],
   "source": [
    "# Display the model summary\n",
    "model.summary()"
   ]
  },
  {
   "cell_type": "code",
   "execution_count": null,
   "metadata": {},
   "outputs": [
    {
     "data": {
      "image/png": "[encoded data removed]",
      "text/plain": [
       "<IPython.core.display.Image object>"
      ]
     },
     "metadata": {},
     "output_type": "display_data"
    }
   ],
   "source": [
    "# Plot the model\n",
    "from tensorflow.keras.utils import plot_model\n",
    "\n",
    "# Plot the model with reduced image size\n",
    "plot_model(model, to_file='model_plot.png', show_shapes=True, show_layer_names=True, dpi=70)"
   ]
  },
  {
   "cell_type": "code",
   "execution_count": null,
   "metadata": {},
   "outputs": [
    {
     "name": "stdout",
     "output_type": "stream",
     "text": [
      "Epoch 1/50\n"
     ]
    },
    {
     "name": "stderr",
     "output_type": "stream",
     "text": [
      "WARNING: All log messages before absl::InitializeLog() is called are written to STDERR\n",
      "I0000 00:00:1735153007.843861   15869 service.cc:146] XLA service 0x7f5580007660 initialized for platform CUDA (this does not guarantee that XLA will be used). Devices:\n",
      "I0000 00:00:1735153007.843902   15869 service.cc:154]   StreamExecutor device (0): NVIDIA GeForce RTX 3070 Laptop GPU, Compute Capability 8.6\n",
      "2024-12-25 18:56:47.919445: I tensorflow/compiler/mlir/tensorflow/utils/dump_mlir_util.cc:268] disabling MLIR crash reproducer, set env var `MLIR_CRASH_REPRODUCER_DIRECTORY` to enable.\n",
      "2024-12-25 18:56:48.172476: I external/local_xla/xla/stream_executor/cuda/cuda_dnn.cc:531] Loaded cuDNN version 90400\n",
      "2024-12-25 18:56:49.207773: I external/local_xla/xla/stream_executor/cuda/cuda_asm_compiler.cc:393] ptxas warning : Registers are spilled to local memory in function 'gemm_fusion_dot_12', 312 bytes spill stores, 312 bytes spill loads\n",
      "\n",
      "2024-12-25 18:56:49.311525: I external/local_xla/xla/stream_executor/cuda/cuda_asm_compiler.cc:393] ptxas warning : Registers are spilled to local memory in function 'gemm_fusion_dot_12', 588 bytes spill stores, 588 bytes spill loads\n",
      "\n",
      "2024-12-25 18:56:49.417517: I external/local_xla/xla/stream_executor/cuda/cuda_asm_compiler.cc:393] ptxas warning : Registers are spilled to local memory in function 'gemm_fusion_dot_18', 580 bytes spill stores, 580 bytes spill loads\n",
      "\n",
      "2024-12-25 18:56:50.881499: I external/local_xla/xla/stream_executor/cuda/cuda_asm_compiler.cc:393] ptxas warning : Registers are spilled to local memory in function 'gemm_fusion_dot_18', 180 bytes spill stores, 180 bytes spill loads\n",
      "\n",
      "2024-12-25 18:56:51.378154: I external/local_xla/xla/stream_executor/cuda/cuda_asm_compiler.cc:393] ptxas warning : Registers are spilled to local memory in function 'gemm_fusion_dot_37', 16 bytes spill stores, 16 bytes spill loads\n",
      "\n",
      "2024-12-25 18:56:51.485564: I external/local_xla/xla/stream_executor/cuda/cuda_asm_compiler.cc:393] ptxas warning : Registers are spilled to local memory in function 'gemm_fusion_dot_19', 188 bytes spill stores, 188 bytes spill loads\n",
      "\n",
      "2024-12-25 18:56:51.627340: I external/local_xla/xla/stream_executor/cuda/cuda_asm_compiler.cc:393] ptxas warning : Registers are spilled to local memory in function 'gemm_fusion_dot_39', 16 bytes spill stores, 16 bytes spill loads\n",
      "\n",
      "2024-12-25 18:56:52.083014: I external/local_xla/xla/stream_executor/cuda/cuda_asm_compiler.cc:393] ptxas warning : Registers are spilled to local memory in function 'gemm_fusion_dot_19', 260 bytes spill stores, 260 bytes spill loads\n",
      "\n",
      "I0000 00:00:1735153015.997747   15869 device_compiler.h:188] Compiled cluster using XLA!  This line is logged at most once for the lifetime of the process.\n"
     ]
    },
    {
     "name": "stdout",
     "output_type": "stream",
     "text": [
      "\u001b[1m3044/3045\u001b[0m \u001b[32m━━━━━━━━━━━━━━━━━━━\u001b[0m\u001b[37m━\u001b[0m \u001b[1m0s\u001b[0m 96ms/step - accuracy: 0.5386 - loss: 0.6928"
     ]
    },
    {
     "name": "stderr",
     "output_type": "stream",
     "text": [
      "2024-12-25 19:01:49.756712: I external/local_xla/xla/stream_executor/cuda/cuda_asm_compiler.cc:393] ptxas warning : Registers are spilled to local memory in function 'gemm_fusion_dot_20', 4 bytes spill stores, 4 bytes spill loads\n",
      "\n",
      "2024-12-25 19:01:50.321547: I external/local_xla/xla/stream_executor/cuda/cuda_asm_compiler.cc:393] ptxas warning : Registers are spilled to local memory in function 'gemm_fusion_dot_12', 16 bytes spill stores, 16 bytes spill loads\n",
      "\n",
      "2024-12-25 19:01:50.368133: I external/local_xla/xla/stream_executor/cuda/cuda_asm_compiler.cc:393] ptxas warning : Registers are spilled to local memory in function 'gemm_fusion_dot_12', 332 bytes spill stores, 336 bytes spill loads\n",
      "\n",
      "2024-12-25 19:01:51.558582: I external/local_xla/xla/stream_executor/cuda/cuda_asm_compiler.cc:393] ptxas warning : Registers are spilled to local memory in function 'gemm_fusion_dot_20', 4 bytes spill stores, 4 bytes spill loads\n",
      "\n",
      "2024-12-25 19:01:51.747181: I external/local_xla/xla/stream_executor/cuda/cuda_asm_compiler.cc:393] ptxas warning : Registers are spilled to local memory in function 'gemm_fusion_dot_20', 496 bytes spill stores, 496 bytes spill loads\n",
      "\n",
      "2024-12-25 19:01:51.762548: I external/local_xla/xla/stream_executor/cuda/cuda_asm_compiler.cc:393] ptxas warning : Registers are spilled to local memory in function 'gemm_fusion_dot_20', 176 bytes spill stores, 176 bytes spill loads\n",
      "\n",
      "2024-12-25 19:01:52.469245: I external/local_xla/xla/stream_executor/cuda/cuda_asm_compiler.cc:393] ptxas warning : Registers are spilled to local memory in function 'gemm_fusion_dot_20', 84 bytes spill stores, 84 bytes spill loads\n",
      "\n",
      "2024-12-25 19:01:52.663511: I external/local_xla/xla/stream_executor/cuda/cuda_asm_compiler.cc:393] ptxas warning : Registers are spilled to local memory in function 'gemm_fusion_dot_25', 32 bytes spill stores, 32 bytes spill loads\n",
      "\n",
      "2024-12-25 19:01:52.668644: I external/local_xla/xla/stream_executor/cuda/cuda_asm_compiler.cc:393] ptxas warning : Registers are spilled to local memory in function 'gemm_fusion_dot_27', 132 bytes spill stores, 132 bytes spill loads\n",
      "\n"
     ]
    },
    {
     "name": "stdout",
     "output_type": "stream",
     "text": [
      "\u001b[1m3045/3045\u001b[0m \u001b[32m━━━━━━━━━━━━━━━━━━━━\u001b[0m\u001b[37m\u001b[0m \u001b[1m0s\u001b[0m 98ms/step - accuracy: 0.5386 - loss: 0.6928"
     ]
    },
    {
     "name": "stderr",
     "output_type": "stream",
     "text": [
      "2024-12-25 19:02:45.613382: I external/local_xla/xla/stream_executor/cuda/cuda_asm_compiler.cc:393] ptxas warning : Registers are spilled to local memory in function 'gemm_fusion_dot_6', 588 bytes spill stores, 588 bytes spill loads\n",
      "\n",
      "2024-12-25 19:02:45.677683: I external/local_xla/xla/stream_executor/cuda/cuda_asm_compiler.cc:393] ptxas warning : Registers are spilled to local memory in function 'gemm_fusion_dot_6', 312 bytes spill stores, 312 bytes spill loads\n",
      "\n"
     ]
    },
    {
     "name": "stdout",
     "output_type": "stream",
     "text": [
      "\u001b[1m3045/3045\u001b[0m \u001b[32m━━━━━━━━━━━━━━━━━━━━\u001b[0m\u001b[37m\u001b[0m \u001b[1m361s\u001b[0m 115ms/step - accuracy: 0.5386 - loss: 0.6928 - val_accuracy: 0.5316 - val_loss: 0.6912\n",
      "Epoch 2/50\n",
      "\u001b[1m3045/3045\u001b[0m \u001b[32m━━━━━━━━━━━━━━━━━━━━\u001b[0m\u001b[37m\u001b[0m \u001b[1m332s\u001b[0m 109ms/step - accuracy: 0.7403 - loss: 0.4875 - val_accuracy: 0.9662 - val_loss: 0.1330\n",
      "Epoch 3/50\n",
      "\u001b[1m3045/3045\u001b[0m \u001b[32m━━━━━━━━━━━━━━━━━━━━\u001b[0m\u001b[37m\u001b[0m \u001b[1m371s\u001b[0m 122ms/step - accuracy: 0.9380 - loss: 0.1992 - val_accuracy: 0.9735 - val_loss: 0.0901\n",
      "Epoch 4/50\n",
      "\u001b[1m3045/3045\u001b[0m \u001b[32m━━━━━━━━━━━━━━━━━━━━\u001b[0m\u001b[37m\u001b[0m \u001b[1m375s\u001b[0m 123ms/step - accuracy: 0.9467 - loss: 0.1439 - val_accuracy: 0.9754 - val_loss: 0.0820\n",
      "Epoch 5/50\n",
      "\u001b[1m3045/3045\u001b[0m \u001b[32m━━━━━━━━━━━━━━━━━━━━\u001b[0m\u001b[37m\u001b[0m \u001b[1m370s\u001b[0m 121ms/step - accuracy: 0.9470 - loss: 0.1342 - val_accuracy: 0.8348 - val_loss: 0.5187\n",
      "Epoch 6/50\n",
      "\u001b[1m3045/3045\u001b[0m \u001b[32m━━━━━━━━━━━━━━━━━━━━\u001b[0m\u001b[37m\u001b[0m \u001b[1m406s\u001b[0m 134ms/step - accuracy: 0.7850 - loss: 0.4244 - val_accuracy: 0.9476 - val_loss: 0.1185\n",
      "Epoch 7/50\n",
      "\u001b[1m3045/3045\u001b[0m \u001b[32m━━━━━━━━━━━━━━━━━━━━\u001b[0m\u001b[37m\u001b[0m \u001b[1m402s\u001b[0m 132ms/step - accuracy: 0.9617 - loss: 0.1333 - val_accuracy: 0.9724 - val_loss: 0.1033\n",
      "Epoch 8/50\n",
      "\u001b[1m3045/3045\u001b[0m \u001b[32m━━━━━━━━━━━━━━━━━━━━\u001b[0m\u001b[37m\u001b[0m \u001b[1m396s\u001b[0m 130ms/step - accuracy: 0.9670 - loss: 0.1005 - val_accuracy: 0.9687 - val_loss: 0.1234\n",
      "Epoch 9/50\n",
      "\u001b[1m3045/3045\u001b[0m \u001b[32m━━━━━━━━━━━━━━━━━━━━\u001b[0m\u001b[37m\u001b[0m \u001b[1m402s\u001b[0m 132ms/step - accuracy: 0.9731 - loss: 0.0830 - val_accuracy: 0.9762 - val_loss: 0.0876\n",
      "Epoch 10/50\n",
      "\u001b[1m3045/3045\u001b[0m \u001b[32m━━━━━━━━━━━━━━━━━━━━\u001b[0m\u001b[37m\u001b[0m \u001b[1m409s\u001b[0m 134ms/step - accuracy: 0.9775 - loss: 0.0716 - val_accuracy: 0.9703 - val_loss: 0.2206\n",
      "Epoch 11/50\n",
      "\u001b[1m3045/3045\u001b[0m \u001b[32m━━━━━━━━━━━━━━━━━━━━\u001b[0m\u001b[37m\u001b[0m \u001b[1m408s\u001b[0m 134ms/step - accuracy: 0.9759 - loss: 0.0747 - val_accuracy: 0.9401 - val_loss: 0.1741\n",
      "Epoch 12/50\n",
      "\u001b[1m3045/3045\u001b[0m \u001b[32m━━━━━━━━━━━━━━━━━━━━\u001b[0m\u001b[37m\u001b[0m \u001b[1m402s\u001b[0m 132ms/step - accuracy: 0.9753 - loss: 0.0728 - val_accuracy: 0.9693 - val_loss: 0.1569\n",
      "Epoch 13/50\n",
      "\u001b[1m3045/3045\u001b[0m \u001b[32m━━━━━━━━━━━━━━━━━━━━\u001b[0m\u001b[37m\u001b[0m \u001b[1m405s\u001b[0m 133ms/step - accuracy: 0.9783 - loss: 0.0665 - val_accuracy: 0.9778 - val_loss: 0.2411\n",
      "Epoch 14/50\n",
      "\u001b[1m3045/3045\u001b[0m \u001b[32m━━━━━━━━━━━━━━━━━━━━\u001b[0m\u001b[37m\u001b[0m \u001b[1m408s\u001b[0m 134ms/step - accuracy: 0.9807 - loss: 0.0672 - val_accuracy: 0.9709 - val_loss: 0.2116\n",
      "Epoch 15/50\n",
      "\u001b[1m3045/3045\u001b[0m \u001b[32m━━━━━━━━━━━━━━━━━━━━\u001b[0m\u001b[37m\u001b[0m \u001b[1m379s\u001b[0m 113ms/step - accuracy: 0.9793 - loss: 0.0581 - val_accuracy: 0.9798 - val_loss: 0.2454\n",
      "Epoch 16/50\n",
      "\u001b[1m3045/3045\u001b[0m \u001b[32m━━━━━━━━━━━━━━━━━━━━\u001b[0m\u001b[37m\u001b[0m \u001b[1m371s\u001b[0m 122ms/step - accuracy: 0.9765 - loss: 0.0718 - val_accuracy: 0.9666 - val_loss: 0.1916\n",
      "Epoch 17/50\n",
      "\u001b[1m3045/3045\u001b[0m \u001b[32m━━━━━━━━━━━━━━━━━━━━\u001b[0m\u001b[37m\u001b[0m \u001b[1m379s\u001b[0m 124ms/step - accuracy: 0.9726 - loss: 0.0798 - val_accuracy: 0.9768 - val_loss: 0.1447\n",
      "Epoch 18/50\n",
      "\u001b[1m3045/3045\u001b[0m \u001b[32m━━━━━━━━━━━━━━━━━━━━\u001b[0m\u001b[37m\u001b[0m \u001b[1m387s\u001b[0m 127ms/step - accuracy: 0.9805 - loss: 0.0584 - val_accuracy: 0.9772 - val_loss: 0.1996\n",
      "Epoch 19/50\n",
      "\u001b[1m3045/3045\u001b[0m \u001b[32m━━━━━━━━━━━━━━━━━━━━\u001b[0m\u001b[37m\u001b[0m \u001b[1m382s\u001b[0m 125ms/step - accuracy: 0.9809 - loss: 0.0561 - val_accuracy: 0.9763 - val_loss: 0.1724\n",
      "Epoch 20/50\n",
      "\u001b[1m3045/3045\u001b[0m \u001b[32m━━━━━━━━━━━━━━━━━━━━\u001b[0m\u001b[37m\u001b[0m \u001b[1m393s\u001b[0m 129ms/step - accuracy: 0.9788 - loss: 0.0621 - val_accuracy: 0.9763 - val_loss: 0.1436\n",
      "Epoch 21/50\n",
      "\u001b[1m3045/3045\u001b[0m \u001b[32m━━━━━━━━━━━━━━━━━━━━\u001b[0m\u001b[37m\u001b[0m \u001b[1m388s\u001b[0m 127ms/step - accuracy: 0.9806 - loss: 0.0542 - val_accuracy: 0.9756 - val_loss: 0.1762\n",
      "Epoch 22/50\n",
      "\u001b[1m3045/3045\u001b[0m \u001b[32m━━━━━━━━━━━━━━━━━━━━\u001b[0m\u001b[37m\u001b[0m \u001b[1m394s\u001b[0m 129ms/step - accuracy: 0.9822 - loss: 0.0514 - val_accuracy: 0.9794 - val_loss: 0.2549\n",
      "Epoch 23/50\n",
      "\u001b[1m3045/3045\u001b[0m \u001b[32m━━━━━━━━━━━━━━━━━━━━\u001b[0m\u001b[37m\u001b[0m \u001b[1m405s\u001b[0m 133ms/step - accuracy: 0.9803 - loss: 0.0565 - val_accuracy: 0.9781 - val_loss: 0.1796\n",
      "Epoch 24/50\n",
      "\u001b[1m3045/3045\u001b[0m \u001b[32m━━━━━━━━━━━━━━━━━━━━\u001b[0m\u001b[37m\u001b[0m \u001b[1m379s\u001b[0m 125ms/step - accuracy: 0.9837 - loss: 0.0472 - val_accuracy: 0.9775 - val_loss: 0.2547\n",
      "Epoch 25/50\n",
      "\u001b[1m3045/3045\u001b[0m \u001b[32m━━━━━━━━━━━━━━━━━━━━\u001b[0m\u001b[37m\u001b[0m \u001b[1m391s\u001b[0m 128ms/step - accuracy: 0.9828 - loss: 0.0495 - val_accuracy: 0.9767 - val_loss: 0.2375\n",
      "Epoch 26/50\n",
      "\u001b[1m3045/3045\u001b[0m \u001b[32m━━━━━━━━━━━━━━━━━━━━\u001b[0m\u001b[37m\u001b[0m \u001b[1m379s\u001b[0m 124ms/step - accuracy: 0.9826 - loss: 0.0558 - val_accuracy: 0.9773 - val_loss: 0.2148\n",
      "Epoch 27/50\n",
      "\u001b[1m3045/3045\u001b[0m \u001b[32m━━━━━━━━━━━━━━━━━━━━\u001b[0m\u001b[37m\u001b[0m \u001b[1m386s\u001b[0m 127ms/step - accuracy: 0.9840 - loss: 0.0446 - val_accuracy: 0.9770 - val_loss: 0.2174\n",
      "Epoch 28/50\n",
      "\u001b[1m3045/3045\u001b[0m \u001b[32m━━━━━━━━━━━━━━━━━━━━\u001b[0m\u001b[37m\u001b[0m \u001b[1m385s\u001b[0m 126ms/step - accuracy: 0.9800 - loss: 0.0632 - val_accuracy: 0.9786 - val_loss: 0.2210\n",
      "Epoch 29/50\n",
      "\u001b[1m3045/3045\u001b[0m \u001b[32m━━━━━━━━━━━━━━━━━━━━\u001b[0m\u001b[37m\u001b[0m \u001b[1m386s\u001b[0m 127ms/step - accuracy: 0.9804 - loss: 0.0581 - val_accuracy: 0.9768 - val_loss: 0.1786\n",
      "Epoch 30/50\n",
      "\u001b[1m3045/3045\u001b[0m \u001b[32m━━━━━━━━━━━━━━━━━━━━\u001b[0m\u001b[37m\u001b[0m \u001b[1m373s\u001b[0m 122ms/step - accuracy: 0.9822 - loss: 0.0510 - val_accuracy: 0.9747 - val_loss: 0.1175\n",
      "Epoch 31/50\n",
      "\u001b[1m3045/3045\u001b[0m \u001b[32m━━━━━━━━━━━━━━━━━━━━\u001b[0m\u001b[37m\u001b[0m \u001b[1m376s\u001b[0m 124ms/step - accuracy: 0.9820 - loss: 0.0508 - val_accuracy: 0.9787 - val_loss: 0.1811\n",
      "Epoch 32/50\n",
      "\u001b[1m3045/3045\u001b[0m \u001b[32m━━━━━━━━━━━━━━━━━━━━\u001b[0m\u001b[37m\u001b[0m \u001b[1m337s\u001b[0m 111ms/step - accuracy: 0.9827 - loss: 0.0529 - val_accuracy: 0.9781 - val_loss: 0.2752\n",
      "Epoch 33/50\n",
      "\u001b[1m3045/3045\u001b[0m \u001b[32m━━━━━━━━━━━━━━━━━━━━\u001b[0m\u001b[37m\u001b[0m \u001b[1m349s\u001b[0m 115ms/step - accuracy: 0.9839 - loss: 0.0466 - val_accuracy: 0.9771 - val_loss: 0.2377\n",
      "Epoch 34/50\n",
      "\u001b[1m3045/3045\u001b[0m \u001b[32m━━━━━━━━━━━━━━━━━━━━\u001b[0m\u001b[37m\u001b[0m \u001b[1m367s\u001b[0m 121ms/step - accuracy: 0.9826 - loss: 0.0479 - val_accuracy: 0.9783 - val_loss: 0.2495\n",
      "Epoch 35/50\n",
      "\u001b[1m3045/3045\u001b[0m \u001b[32m━━━━━━━━━━━━━━━━━━━━\u001b[0m\u001b[37m\u001b[0m \u001b[1m336s\u001b[0m 110ms/step - accuracy: 0.9834 - loss: 0.0449 - val_accuracy: 0.9735 - val_loss: 0.3690\n",
      "Epoch 36/50\n",
      "\u001b[1m3045/3045\u001b[0m \u001b[32m━━━━━━━━━━━━━━━━━━━━\u001b[0m\u001b[37m\u001b[0m \u001b[1m333s\u001b[0m 109ms/step - accuracy: 0.9809 - loss: 0.0608 - val_accuracy: 0.9800 - val_loss: 0.2251\n",
      "Epoch 37/50\n",
      "\u001b[1m3045/3045\u001b[0m \u001b[32m━━━━━━━━━━━━━━━━━━━━\u001b[0m\u001b[37m\u001b[0m \u001b[1m336s\u001b[0m 110ms/step - accuracy: 0.9854 - loss: 0.0420 - val_accuracy: 0.9781 - val_loss: 0.3368\n",
      "Epoch 38/50\n",
      "\u001b[1m3045/3045\u001b[0m \u001b[32m━━━━━━━━━━━━━━━━━━━━\u001b[0m\u001b[37m\u001b[0m \u001b[1m359s\u001b[0m 102ms/step - accuracy: 0.9807 - loss: 0.0543 - val_accuracy: 0.9782 - val_loss: 0.2582\n",
      "Epoch 39/50\n",
      "\u001b[1m3045/3045\u001b[0m \u001b[32m━━━━━━━━━━━━━━━━━━━━\u001b[0m\u001b[37m\u001b[0m \u001b[1m313s\u001b[0m 103ms/step - accuracy: 0.9856 - loss: 0.0419 - val_accuracy: 0.9778 - val_loss: 0.2535\n",
      "Epoch 40/50\n",
      "\u001b[1m3045/3045\u001b[0m \u001b[32m━━━━━━━━━━━━━━━━━━━━\u001b[0m\u001b[37m\u001b[0m \u001b[1m324s\u001b[0m 106ms/step - accuracy: 0.9827 - loss: 0.0506 - val_accuracy: 0.9791 - val_loss: 0.3011\n",
      "Epoch 41/50\n",
      "\u001b[1m3045/3045\u001b[0m \u001b[32m━━━━━━━━━━━━━━━━━━━━\u001b[0m\u001b[37m\u001b[0m \u001b[1m330s\u001b[0m 108ms/step - accuracy: 0.9835 - loss: 0.0451 - val_accuracy: 0.9782 - val_loss: 0.2486\n",
      "Epoch 42/50\n",
      "\u001b[1m3045/3045\u001b[0m \u001b[32m━━━━━━━━━━━━━━━━━━━━\u001b[0m\u001b[37m\u001b[0m \u001b[1m333s\u001b[0m 109ms/step - accuracy: 0.9834 - loss: 0.0460 - val_accuracy: 0.9691 - val_loss: 0.2217\n",
      "Epoch 43/50\n",
      "\u001b[1m3045/3045\u001b[0m \u001b[32m━━━━━━━━━━━━━━━━━━━━\u001b[0m\u001b[37m\u001b[0m \u001b[1m332s\u001b[0m 109ms/step - accuracy: 0.9841 - loss: 0.0445 - val_accuracy: 0.9747 - val_loss: 0.3144\n",
      "Epoch 44/50\n",
      "\u001b[1m3045/3045\u001b[0m \u001b[32m━━━━━━━━━━━━━━━━━━━━\u001b[0m\u001b[37m\u001b[0m \u001b[1m343s\u001b[0m 113ms/step - accuracy: 0.9810 - loss: 0.0586 - val_accuracy: 0.9771 - val_loss: 0.2395\n",
      "Epoch 45/50\n",
      "\u001b[1m3045/3045\u001b[0m \u001b[32m━━━━━━━━━━━━━━━━━━━━\u001b[0m\u001b[37m\u001b[0m \u001b[1m339s\u001b[0m 111ms/step - accuracy: 0.9830 - loss: 0.0452 - val_accuracy: 0.9786 - val_loss: 0.2862\n",
      "Epoch 46/50\n",
      "\u001b[1m3045/3045\u001b[0m \u001b[32m━━━━━━━━━━━━━━━━━━━━\u001b[0m\u001b[37m\u001b[0m \u001b[1m342s\u001b[0m 112ms/step - accuracy: 0.9834 - loss: 0.0451 - val_accuracy: 0.9802 - val_loss: 0.2484\n",
      "Epoch 47/50\n",
      "\u001b[1m3045/3045\u001b[0m \u001b[32m━━━━━━━━━━━━━━━━━━━━\u001b[0m\u001b[37m\u001b[0m \u001b[1m339s\u001b[0m 111ms/step - accuracy: 0.9837 - loss: 0.0443 - val_accuracy: 0.9755 - val_loss: 0.2961\n",
      "Epoch 48/50\n",
      "\u001b[1m3045/3045\u001b[0m \u001b[32m━━━━━━━━━━━━━━━━━━━━\u001b[0m\u001b[37m\u001b[0m \u001b[1m342s\u001b[0m 112ms/step - accuracy: 0.9814 - loss: 0.0518 - val_accuracy: 0.9740 - val_loss: 0.3001\n",
      "Epoch 49/50\n",
      "\u001b[1m3045/3045\u001b[0m \u001b[32m━━━━━━━━━━━━━━━━━━━━\u001b[0m\u001b[37m\u001b[0m \u001b[1m339s\u001b[0m 111ms/step - accuracy: 0.9839 - loss: 0.0462 - val_accuracy: 0.9800 - val_loss: 0.2080\n",
      "Epoch 50/50\n",
      "\u001b[1m3045/3045\u001b[0m \u001b[32m━━━━━━━━━━━━━━━━━━━━\u001b[0m\u001b[37m\u001b[0m \u001b[1m342s\u001b[0m 112ms/step - accuracy: 0.9827 - loss: 0.0474 - val_accuracy: 0.9787 - val_loss: 0.4175\n"
     ]
    }
   ],
   "source": [
    "\n",
    "# Train the model\n",
    "history = model.fit(train_x, train_y, epochs=10, batch_size=8, validation_data=(val_x, val_y))"
   ]
  },
  {
   "cell_type": "markdown",
   "metadata": {},
   "source": [
    "#### Now we shall look at MULTI GPU Performance, Here a bigger architecture is used"
   ]
  },
  {
   "cell_type": "code",
   "execution_count": null,
   "metadata": {
    "editable": false,
    "execution": {
     "iopub.execute_input": "2024-12-25T18:43:48.658798Z",
     "iopub.status.busy": "2024-12-25T18:43:48.658477Z",
     "iopub.status.idle": "2024-12-25T18:43:50.922629Z",
     "shell.execute_reply": "2024-12-25T18:43:50.921874Z",
     "shell.execute_reply.started": "2024-12-25T18:43:48.658774Z"
    },
    "trusted": true
   },
   "outputs": [],
   "source": [
    "import gc\n",
    "import tensorflow as tf\n",
    "from numba import cuda\n",
    "\n",
    "# Clear TensorFlow session\n",
    "tf.keras.backend.clear_session()\n",
    "\n",
    "# Run garbage collection\n",
    "gc.collect()\n",
    "\n",
    "# Clear GPU memory\n",
    "cuda.select_device(0)\n",
    "cuda.close()"
   ]
  },
  {
   "cell_type": "code",
   "execution_count": null,
   "metadata": {
    "editable": false,
    "execution": {
     "iopub.execute_input": "2024-12-26T03:37:32.102200Z",
     "iopub.status.busy": "2024-12-26T03:37:32.101922Z",
     "iopub.status.idle": "2024-12-26T03:37:32.510834Z",
     "shell.execute_reply": "2024-12-26T03:37:32.509860Z",
     "shell.execute_reply.started": "2024-12-26T03:37:32.102175Z"
    },
    "trusted": true
   },
   "outputs": [],
   "source": [
    "import tensorflow as tf\n",
    "from tensorflow.keras.layers import LayerNormalization, MultiHeadAttention, Dense, Dropout, Input, Embedding, GlobalAveragePooling1D\n",
    "from tensorflow.keras.callbacks import ModelCheckpoint\n",
    "from tensorflow.keras.optimizers import Adam\n",
    "\n",
    "# Verify GPU access\n",
    "gpus = tf.config.list_physical_devices('GPU')\n",
    "if gpus:\n",
    "    print(f\"GPUs available: {len(gpus)}\")\n",
    "else:\n",
    "    print(\"No GPUs available\")\n",
    "\n",
    "class SimpleTransformerBlock(tf.keras.layers.Layer):\n",
    "    def __init__(self, embed_dim, num_heads, ff_dim, rate=0.1):\n",
    "        super(SimpleTransformerBlock, self).__init__()\n",
    "        self.att = MultiHeadAttention(num_heads=num_heads, key_dim=embed_dim)\n",
    "        self.ffn = tf.keras.Sequential(\n",
    "            [Dense(ff_dim, activation=\"relu\"), Dense(embed_dim)]\n",
    "        )\n",
    "        self.layernorm1 = LayerNormalization(epsilon=1e-6)\n",
    "        self.layernorm2 = LayerNormalization(epsilon=1e-6)\n",
    "        self.dropout1 = Dropout(rate)\n",
    "        self.dropout2 = Dropout(rate)\n",
    "\n",
    "    def call(self, inputs, training):\n",
    "        attn_output = self.att(inputs, inputs)\n",
    "        attn_output = self.dropout1(attn_output, training=training)\n",
    "        out1 = self.layernorm1(inputs + attn_output)\n",
    "        ffn_output = self.ffn(out1)\n",
    "        ffn_output = self.dropout2(ffn_output, training=training)\n",
    "        return self.layernorm2(out1 + ffn_output)\n",
    "\n",
    "def simple_transformer_model(input_shape, vocab_size):\n",
    "    inputs = Input(shape=input_shape)\n",
    "    embedding_layer = Embedding(input_dim=vocab_size, output_dim=128)(inputs) \n",
    "    transformer_block = SimpleTransformerBlock(embed_dim=128, num_heads=2, ff_dim=128)\n",
    "    x = transformer_block(embedding_layer, training=True)\n",
    "    x = GlobalAveragePooling1D()(x)\n",
    "    x = Dense(8, activation='relu')(x)  # Reduced number of units\n",
    "    x = Dropout(0.5)(x)\n",
    "    outputs = Dense(1, activation='sigmoid')(x)\n",
    "    model = tf.keras.Model(inputs=inputs, outputs=outputs)\n",
    "    return model\n",
    "\n",
    "# Set up distributed strategy\n",
    "strategy = tf.distribute.MirroredStrategy()\n",
    "\n",
    "with strategy.scope():\n",
    "    # Build the simpler model\n",
    "    model = simple_transformer_model((max_length,), 5000)\n",
    "\n",
    "    # Compile the model with a lower learning rate and gradient clipping\n",
    "    optimizer = Adam(learning_rate=1e-4, clipnorm=1.0)\n",
    "    model.compile(loss='binary_crossentropy', optimizer=optimizer, metrics=['accuracy'])\n",
    "\n",
    "    # Define the ModelCheckpoint callback\n",
    "    checkpoint_callback = ModelCheckpoint(\n",
    "        filepath='simple_transformer_model.keras',\n",
    "        save_best_only=True,\n",
    "        monitor='val_loss',\n",
    "        mode='min',\n",
    "        verbose=1\n",
    "    )\n"
   ]
  },
  {
   "cell_type": "code",
   "execution_count": null,
   "metadata": {
    "editable": false,
    "execution": {
     "iopub.execute_input": "2024-12-26T03:37:32.512088Z",
     "iopub.status.busy": "2024-12-26T03:37:32.511812Z",
     "iopub.status.idle": "2024-12-26T03:37:32.530550Z",
     "shell.execute_reply": "2024-12-26T03:37:32.529727Z",
     "shell.execute_reply.started": "2024-12-26T03:37:32.512065Z"
    },
    "trusted": true
   },
   "outputs": [],
   "source": [
    "# Display the model summary\n",
    "model.summary()"
   ]
  },
  {
   "cell_type": "code",
   "execution_count": null,
   "metadata": {
    "editable": false,
    "execution": {
     "iopub.execute_input": "2024-12-26T03:37:32.532007Z",
     "iopub.status.busy": "2024-12-26T03:37:32.531675Z",
     "iopub.status.idle": "2024-12-26T03:37:33.092535Z",
     "shell.execute_reply": "2024-12-26T03:37:33.091642Z",
     "shell.execute_reply.started": "2024-12-26T03:37:32.531976Z"
    },
    "trusted": true
   },
   "outputs": [],
   "source": [
    "from tensorflow.keras.utils import plot_model\n",
    "\n",
    "# Plot the model\n",
    "plot_model(model, to_file='model_plot.png', show_shapes=True, show_layer_names=True,dpi=70)"
   ]
  },
  {
   "cell_type": "code",
   "execution_count": null,
   "metadata": {
    "editable": false,
    "execution": {
     "execution_failed": "2024-12-26T08:11:13.580Z",
     "iopub.execute_input": "2024-12-26T03:37:33.093930Z",
     "iopub.status.busy": "2024-12-26T03:37:33.093612Z"
    },
    "trusted": true
   },
   "outputs": [],
   "source": [
    "# Train the model with the callback\n",
    "history = model.fit(train_x, train_y, epochs=15, batch_size=16, validation_data=(val_x, val_y), callbacks=[checkpoint_callback])\n"
   ]
  },
  {
   "cell_type": "code",
   "execution_count": null,
   "metadata": {
    "editable": false,
    "trusted": true
   },
   "outputs": [],
   "source": [
    "\n",
    "# Evaluate the model on the test set\n",
    "test_loss, test_accuracy = model.evaluate(test_x, test_y)\n",
    "print(f\"Test Loss: {test_loss}\")\n",
    "print(f\"Test Accuracy: {test_accuracy}\")\n",
    "\n",
    "# Predict on the test set\n",
    "predictions = model.predict(test_x)\n",
    "predictions = (predictions > 0.5).astype(int)\n",
    "\n",
    "# Calculate accuracy\n",
    "from sklearn.metrics import accuracy_score\n",
    "accuracy = accuracy_score(test_y, predictions)\n",
    "print(f\"Test Accuracy (calculated): {accuracy}\")"
   ]
  },
  {
   "cell_type": "code",
   "execution_count": null,
   "metadata": {
    "editable": false,
    "execution": {
     "execution_failed": "2024-12-26T08:11:13.581Z"
    },
    "trusted": true
   },
   "outputs": [],
   "source": [
    "import matplotlib.pyplot as plt\n",
    "\n",
    "# Plot training & validation loss values\n",
    "plt.figure(figsize=(12, 6))\n",
    "\n",
    "plt.subplot(1, 2, 1)\n",
    "plt.plot(history.history['loss'], label='Train Loss')\n",
    "plt.plot(history.history['val_loss'], label='Validation Loss')\n",
    "plt.title('Model Loss')\n",
    "plt.xlabel('Epoch')\n",
    "plt.ylabel('Loss')\n",
    "plt.legend(loc='upper right')\n",
    "\n",
    "# Plot training & validation accuracy values\n",
    "plt.subplot(1, 2, 2)\n",
    "plt.plot(history.history['accuracy'], label='Train Accuracy')\n",
    "plt.plot(history.history['val_accuracy'], label='Validation Accuracy')\n",
    "plt.title('Model Accuracy')\n",
    "plt.xlabel('Epoch')\n",
    "plt.ylabel('Accuracy')\n",
    "plt.legend(loc='lower right')\n",
    "\n",
    "plt.tight_layout()\n",
    "plt.show()"
   ]
  },
  {
   "cell_type": "markdown",
   "metadata": {},
   "source": [
    "### Comparision between the results single gpu vs multiple gpu speed ,time:"
   ]
  },
  {
   "cell_type": "markdown",
   "metadata": {},
   "source": [
    "#### Single GPU results\n",
    "A simple transformer architecture is used on Laptop due to hardware constraints<br>\n",
    "<img src = 'laptoptransformerconfig.png' width=400><br>\n",
    "<img src='sigleGPUresulttransformer.png' ><br>\n",
    "<img src = 'Transformer_local_GPU_utilization.png' width=300>"
   ]
  },
  {
   "cell_type": "markdown",
   "metadata": {},
   "source": [
    "#### Multi GPU results\n",
    "<img src='multigputransformerconfig.png' width=400><br>\n",
    "**Time Taken for each epoch : 1500s** <br><br>\n",
    "(since model is big and learning rate is lowered on 5 epochs the accuracy was around 60% could be improved on further training)<br>\n",
    "<img src = 'transformer_keggle_multigpu.png' width=200>"
   ]
  },
  {
   "cell_type": "markdown",
   "metadata": {
    "editable": false
   },
   "source": [
    "# Using TPU on Kaggle for Model Training\n",
    "\n",
    "To leverage the power of TPUs on Kaggle for training your model, follow these steps:\n",
    "\n",
    "1. **Set Up TPU**:\n",
    "   - Connect to the TPU using `TPUClusterResolver`.\n",
    "   - Initialize the TPU system.\n",
    "\n",
    "2. **Define and Compile the Model within TPU Strategy Scope**:\n",
    "   - Use `tf.distribute.TPUStrategy` to distribute the training across TPU cores.\n",
    "   - Define and compile your model within the TPU strategy scope.\n",
    "\n",
    "3. **Train the Model**:\n",
    "   - Adjust the batch size to utilize the TPU effectively by multiplying it with `strategy.num_replicas_in_sync`.\n",
    "   - Use the `ModelCheckpoint` callback to save the best model based on validation loss.\n",
    "\n",
    "Here is the complete code to set up and train a simplified transformer model on a TPU:\n",
    "\n"
   ]
  },
  {
   "cell_type": "code",
   "execution_count": null,
   "metadata": {
    "editable": false,
    "trusted": true
   },
   "outputs": [],
   "source": [
    "import tensorflow as tf\n",
    "from tensorflow.keras.layers import LayerNormalization, MultiHeadAttention, Dense, Dropout, Input, Embedding, GlobalAveragePooling1D\n",
    "from tensorflow.keras.callbacks import ModelCheckpoint\n",
    "from tensorflow.keras.optimizers import Adam\n",
    "\n",
    "# Set up TPU\n",
    "resolver = tf.distribute.cluster_resolver.TPUClusterResolver.connect()\n",
    "tf.config.experimental_connect_to_cluster(resolver)\n",
    "tf.tpu.experimental.initialize_tpu_system(resolver)\n",
    "strategy = tf.distribute.TPUStrategy(resolver)\n",
    "\n",
    "class SimpleTransformerBlock(tf.keras.layers.Layer):\n",
    "    def __init__(self, embed_dim, num_heads, ff_dim, rate=0.1):\n",
    "        super(SimpleTransformerBlock, self).__init__()\n",
    "        self.att = MultiHeadAttention(num_heads=num_heads, key_dim=embed_dim)\n",
    "        self.ffn = tf.keras.Sequential(\n",
    "            [Dense(ff_dim, activation=\"relu\"), Dense(embed_dim)]\n",
    "        )\n",
    "        self.layernorm1 = LayerNormalization(epsilon=1e-6)\n",
    "        self.layernorm2 = LayerNormalization(epsilon=1e-6)\n",
    "        self.dropout1 = Dropout(rate)\n",
    "        self.dropout2 = Dropout(rate)\n",
    "\n",
    "    def call(self, inputs, training):\n",
    "        attn_output = self.att(inputs, inputs)\n",
    "        attn_output = self.dropout1(attn_output, training=training)\n",
    "        out1 = self.layernorm1(inputs + attn_output)\n",
    "        ffn_output = self.ffn(out1)\n",
    "        ffn_output = self.dropout2(ffn_output, training=training)\n",
    "        return self.layernorm2(out1 + ffn_output)\n",
    "\n",
    "def simple_transformer_model(input_shape, vocab_size):\n",
    "    inputs = Input(shape=input_shape)\n",
    "    embedding_layer = Embedding(input_dim=vocab_size, output_dim=32)(inputs)  # Reduced output dimension\n",
    "    transformer_block = SimpleTransformerBlock(embed_dim=32, num_heads=1, ff_dim=32)  # Reduced number of heads and ff_dim\n",
    "    x = transformer_block(embedding_layer, training=True)\n",
    "    x = GlobalAveragePooling1D()(x)\n",
    "    x = Dense(8, activation='relu')(x)  # Reduced number of units\n",
    "    x = Dropout(0.5)(x)\n",
    "    outputs = Dense(1, activation='sigmoid')(x)\n",
    "    model = tf.keras.Model(inputs=inputs, outputs=outputs)\n",
    "    return model\n",
    "\n",
    "with strategy.scope():\n",
    "    # Build the simpler model\n",
    "    model = simple_transformer_model((max_length,), 5000)\n",
    "\n",
    "    # Compile the model with a lower learning rate and gradient clipping\n",
    "    optimizer = Adam(learning_rate=1e-4, clipnorm=1.0)\n",
    "    model.compile(loss='binary_crossentropy', optimizer=optimizer, metrics=['accuracy'])\n",
    "\n",
    "    # Define the ModelCheckpoint callback\n",
    "    checkpoint_callback = ModelCheckpoint(\n",
    "        filepath='simple_transformer_model.keras',\n",
    "        save_best_only=True,\n",
    "        monitor='val_loss',\n",
    "        mode='min',\n",
    "        verbose=1\n",
    "    )\n"
   ]
  },
  {
   "cell_type": "code",
   "execution_count": null,
   "metadata": {
    "editable": false
   },
   "outputs": [],
   "source": [
    "# Train the model with the callback\n",
    "history = model.fit(train_x, train_y, epochs=3, batch_size=64 * strategy.num_replicas_in_sync, validation_data=(val_x, val_y), callbacks=[checkpoint_callback])"
   ]
  },
  {
   "cell_type": "code",
   "execution_count": null,
   "metadata": {
    "editable": false
   },
   "outputs": [],
   "source": [
    "# Evaluate the model on the test set\n",
    "test_loss, test_accuracy = model.evaluate(test_x, test_y)\n",
    "print(f\"Test Loss: {test_loss}\")\n",
    "print(f\"Test Accuracy: {test_accuracy}\")\n",
    "\n",
    "# Predict on the test set\n",
    "predictions = model.predict(test_x)\n",
    "predictions = (predictions > 0.5).astype(int)\n",
    "\n",
    "# Calculate accuracy\n",
    "from sklearn.metrics import accuracy_score\n",
    "accuracy = accuracy_score(test_y, predictions)\n",
    "print(f\"Test Accuracy (calculated): {accuracy}\")"
   ]
  },
  {
   "cell_type": "markdown",
   "metadata": {},
   "source": [
    "### **Why I used my Laptop for Single GPU Training?**\n",
    "\n",
    "Training models on a laptop with a single GPU is often a practical and convenient choice. Here’s why:  \n",
    "\n",
    "1. **No Internet Dependency**: You can train models offline without relying on cloud infrastructure or internet connectivity.  \n",
    "2. **Local GPU Power**: Many modern laptops are equipped with powerful GPUs capable of handling demanding machine learning tasks efficiently.  \n",
    "3. **Cost-Effective**: Training locally eliminates the cost of renting cloud GPUs or multi-GPU setups for smaller projects.  \n",
    "4. **Customization**: You have full control over the environment, making it easier to experiment with configurations and dependencies.  \n",
    "5. **Convenience**: Having everything on a single machine allows for faster debugging and development cycles.\n",
    "6.  **Avoid Time Out Issues**: One of the biggest irritations of cloud platforms like Kaggle is receiving the dreaded “Are you still there?” message after leaving a model to train overnight. With local training, this frustration is entirely avoided!\n",
    "\n",
    "#### **Setting Up Your Local Environment**\n",
    "To make setting up a machine learning environment easy, I recommend using **Lambda Stack**. It simplifies the process by installing all the necessary components like TensorFlow, PyTorch, CUDA, and drivers in one go.  \n",
    "\n",
    "Visit [Lambda Stack](https://lambdalabs.com/lambda-stack-deep-learning-software) and follow the commands provided there. Once set up, you’re ready to enjoy training on your local machine with minimal effort!"
   ]
  }
 ],
 "metadata": {
  "kaggle": {
   "accelerator": "tpu1vmV38",
   "dataSources": [
    {
     "datasetId": 5926278,
     "sourceId": 9693156,
     "sourceType": "datasetVersion"
    }
   ],
   "dockerImageVersionId": 30823,
   "isGpuEnabled": false,
   "isInternetEnabled": true,
   "language": "python",
   "sourceType": "notebook"
  },
  "kernelspec": {
   "display_name": "Python 3",
   "language": "python",
   "name": "python3"
  },
  "language_info": {
   "codemirror_mode": {
    "name": "ipython",
    "version": 3
   },
   "file_extension": ".py",
   "mimetype": "text/x-python",
   "name": "python",
   "nbconvert_exporter": "python",
   "pygments_lexer": "ipython3",
   "version": "3.10.12"
  }
 },
 "nbformat": 4,
 "nbformat_minor": 4
}
